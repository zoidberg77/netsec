{
 "cells": [
  {
   "cell_type": "code",
   "execution_count": 208,
   "metadata": {},
   "outputs": [],
   "source": [
    "import pandas as pd\n",
    "import numpy as np\n",
    "import os\n",
    "from sklearn.model_selection import train_test_split\n",
    "from sklearn.metrics import confusion_matrix\n",
    "from sklearn.utils.multiclass import unique_labels\n",
    "from sklearn.ensemble import ExtraTreesClassifier\n",
    "from sklearn.datasets import load_iris\n",
    "from sklearn.feature_selection import SelectFromModel\n",
    "import matplotlib.pyplot as plt\n",
    "import seaborn as sns\n",
    "sns.set(rc={'figure.figsize':(11.7,8.27)})"
   ]
  },
  {
   "cell_type": "code",
   "execution_count": 2,
   "metadata": {},
   "outputs": [
    {
     "name": "stdout",
     "output_type": "stream",
     "text": [
      "./malicious-connection-dataset/df_bad.csv\n",
      "./malicious-connection-dataset/df_good.csv\n"
     ]
    }
   ],
   "source": [
    "for dirname, _, filenames in os.walk('./malicious-connection-dataset'):\n",
    "    for filename in filenames:\n",
    "        print(os.path.join(dirname, filename))"
   ]
  },
  {
   "cell_type": "code",
   "execution_count": 3,
   "metadata": {},
   "outputs": [
    {
     "name": "stdout",
     "output_type": "stream",
     "text": [
      "   label                ip     port  \\\n",
      "0      1   54.192.93.196\\n  https\\n   \n",
      "1      1  172.217.20.196\\n  https\\n   \n",
      "2      1   146.0.227.107\\n  https\\n   \n",
      "3      1    52.0.187.208\\n  https\\n   \n",
      "4      1   54.192.93.166\\n  https\\n   \n",
      "\n",
      "                                               times  \\\n",
      "0  2544744290,2544851375|2544851389,2544957774,25...   \n",
      "1  4025706292,4026084367,4026376491,4026463221,40...   \n",
      "2  3046049650,3046060847|3046060884,3046063766,30...   \n",
      "3  180493736,180616162|180616174,180641699,180773...   \n",
      "4  1442442427,1442737731,1442755056|1442755755,14...   \n",
      "\n",
      "                                                  di  \\\n",
      "0  0,0,0,0,0,0,0,0,0,0,0,0,0,0,0,0,0,0,0,0,0,0,0,...   \n",
      "1  0,0,0,0,188,0,0,0,0,0,0,0,126,0,0,0,1368,0,0,0...   \n",
      "2                            0,0,0,0,0,0,0,0,0,0,0\\n   \n",
      "3  0,0,0,0,0,0,0,0,0,0,0,0,465,224,0,0,0,0,0,0,0,...   \n",
      "4  0,0,192,0,0,0,0,0,0,0,0,0,0,0,0,0,0,0,0,0,0,0,...   \n",
      "\n",
      "                                                  do  \\\n",
      "0  0,0,182,4024,126,382,226,0,497,0,0,0,0,0,0,0,0...   \n",
      "1  0,0,0,0,0,0,0,188,0,2836,670,0,0,0,2836,670,0,...   \n",
      "2                  0,0,194,0,4899,374,282,0,53,0,0\\n   \n",
      "3  0,0,192,0,1448,2524,126,1195,51,271,2765,438,2...   \n",
      "4  0,0,0,0,0,5480,126,192,332,242,0,1448,5245,126...   \n",
      "\n",
      "                                                  pi  \\\n",
      "0  1,1,0,2,0,0,0,0,1,0,0,0,0,0,0,0,0,0,0,0,0,0,0,...   \n",
      "1  1,0,0,0,1,0,0,0,0,0,0,1,1,0,0,0,3,0,0,0,0,0,0,...   \n",
      "2                            1,1,0,0,4,0,0,0,0,0,1\\n   \n",
      "3  1,1,0,0,1,2,0,0,0,1,1,1,1,2,0,1,0,0,0,0,4,1,1,...   \n",
      "4  1,0,2,1,0,4,0,0,0,1,0,2,3,0,0,0,1,0,0,0,0,0,0,...   \n",
      "\n",
      "                                                  po   type  \n",
      "0  0,1,1,4,1,1,1,1,1,1,1,1,1,1,1,1,1,1,1,1,1,1,1,...  cap14  \n",
      "1  0,1,1,1,1,1,1,1,1,2,1,1,1,1,2,1,1,1,1,1,1,1,1,...  cap14  \n",
      "2                            0,1,1,1,4,1,1,1,1,1,2\\n  cap14  \n",
      "3  0,1,1,1,1,2,1,1,1,1,2,1,1,1,1,2,1,1,1,1,4,1,1,...  cap14  \n",
      "4  0,1,1,1,1,4,1,1,1,1,1,1,4,1,1,1,1,1,1,1,1,1,1,...  cap14  \n"
     ]
    }
   ],
   "source": [
    "#Load data\n",
    "df_bad = pd.read_csv('./malicious-connection-dataset/df_bad.csv', encoding='ISO-8859-2')\n",
    "df_bad.rename(columns={'Unnamed: 0':'unnamed'}, inplace=True)\n",
    "df_bad.drop('unnamed', axis=1, inplace=True)\n",
    "df_bad.insert(0, 'label', 0)\n",
    "\n",
    "df_good = pd.read_csv('./malicious-connection-dataset/df_good.csv', encoding='ISO-8859-2')  \n",
    "df_good.rename(columns={'Unnamed: 0':'unnamed'}, inplace=True)\n",
    "df_good.drop('unnamed', axis=1, inplace=True)\n",
    "df_good.insert(0, 'label', 1)\n",
    "df = pd.concat([df_good, df_bad], ignore_index=True)\n",
    "print(df.head())"
   ]
  },
  {
   "cell_type": "code",
   "execution_count": 4,
   "metadata": {},
   "outputs": [],
   "source": [
    "#Feature engineering - times, aggregate via std\n",
    "def time_converter(s):\n",
    "    s = s.fillna(0).astype(str).str.split(\"|\", expand = False).apply(\n",
    "            lambda x : [[int(i) for i in y.split(',')] for y in x]\n",
    "        )\n",
    "    s = s.apply(lambda x : np.std(np.concatenate(x)))\n",
    "    return s\n",
    "df[['times']] = df[['times']].apply(time_converter, axis=0)"
   ]
  },
  {
   "cell_type": "code",
   "execution_count": 5,
   "metadata": {},
   "outputs": [],
   "source": [
    "#Feature engineering - other numerical aggreagted via std\n",
    "def num_converter(s):\n",
    "    s = s.fillna(0).astype(str).str.split(\",\", expand = False).apply(\n",
    "            lambda x : [int(y) for y in x]\n",
    "        )\n",
    "    s = s.apply(lambda x : np.std(x))\n",
    "    return s\n",
    "df[['di']] = df[['di']].apply(num_converter, axis=0)\n",
    "df[['do']] = df[['do']].apply(num_converter, axis=0)\n",
    "df[['pi']] = df[['pi']].apply(num_converter, axis=0)\n",
    "df[['po']] = df[['po']].apply(num_converter, axis=0)"
   ]
  },
  {
   "cell_type": "code",
   "execution_count": 28,
   "metadata": {},
   "outputs": [
    {
     "name": "stdout",
     "output_type": "stream",
     "text": [
      "              ip\n",
      "0       0.847820\n",
      "1      -0.680141\n",
      "2      -1.041982\n",
      "3       0.790188\n",
      "4       0.847552\n",
      "...          ...\n",
      "274148 -1.748161\n",
      "274149  1.330811\n",
      "274150 -0.661142\n",
      "274151 -0.661185\n",
      "274152 -0.661170\n",
      "\n",
      "[274153 rows x 1 columns]\n"
     ]
    }
   ],
   "source": [
    "#Feature engineering - encode categorical\n",
    "cols = ['ip', 'port']\n",
    "print(df[['ip']])\n",
    "# import labelencoder\n",
    "from sklearn.preprocessing import LabelEncoder# instantiate labelencoder object\n",
    "le = LabelEncoder()\n",
    "df[cols] = df[cols].apply(lambda col: le.fit_transform(col))"
   ]
  },
  {
   "cell_type": "code",
   "execution_count": 29,
   "metadata": {},
   "outputs": [],
   "source": [
    "#Feature normalization\n",
    "cols = ['times', 'di', 'do', 'pi', 'po', 'ip', 'port']\n",
    "df[cols] = (df[cols]-df[cols].mean())/df[cols].std()"
   ]
  },
  {
   "cell_type": "code",
   "execution_count": 209,
   "metadata": {},
   "outputs": [
    {
     "data": {
      "image/png": "[encoded data removed]",
      "text/plain": [
       "<Figure size 842.4x595.44 with 2 Axes>"
      ]
     },
     "metadata": {},
     "output_type": "display_data"
    }
   ],
   "source": [
    "#Plot corellation\n",
    "cols = ['label', 'times', 'di', 'do', 'pi', 'po', 'ip', 'port']\n",
    "corr = df[cols].corr()\n",
    "\n",
    "ax = sns.heatmap(\n",
    "    corr, \n",
    "    vmin=-1, vmax=1, center=0,\n",
    "    cmap=sns.diverging_palette(20, 220, n=200),\n",
    "    square=True\n",
    ")\n",
    "ax.set_xticklabels(\n",
    "    ax.get_xticklabels(),\n",
    "    rotation=45,\n",
    "    horizontalalignment='right'\n",
    ");"
   ]
  },
  {
   "cell_type": "code",
   "execution_count": 147,
   "metadata": {},
   "outputs": [
    {
     "name": "stdout",
     "output_type": "stream",
     "text": [
      "(274153, 7)\n"
     ]
    },
    {
     "name": "stderr",
     "output_type": "stream",
     "text": [
      "/home/lorenz/miniconda3/lib/python3.7/site-packages/ipykernel_launcher.py:12: DataConversionWarning: A column-vector y was passed when a 1d array was expected. Please change the shape of y to (n_samples,), for example using ravel().\n",
      "  if sys.path[0] == '':\n"
     ]
    },
    {
     "name": "stdout",
     "output_type": "stream",
     "text": [
      "[0.12299251 0.10093025 0.08103465 0.06003645 0.39078752 0.12959524\n",
      " 0.11462339]\n",
      "(183682, 7)\n"
     ]
    }
   ],
   "source": [
    "#Train Test split\n",
    "from sklearn.model_selection import train_test_split\n",
    "#Feature selection via cheap classifier\n",
    "X = df[['ip', 'port', 'times', 'di', 'do', 'pi', 'po']]\n",
    "y = df[['label']]\n",
    "print(X.shape)\n",
    "X_train, X_test, y_train, y_test = train_test_split(\n",
    "X, y, test_size=0.33, random_state=42, shuffle=True, stratify=y)\n",
    "\n",
    "#Feature selection via cheap classifier\n",
    "clf = ExtraTreesClassifier(n_estimators=50)\n",
    "clf = clf.fit(X_train, y_train)\n",
    "print(clf.feature_importances_)  \n",
    "model = SelectFromModel(clf, prefit=True, threshold='0.5*mean')\n",
    "X_train = model.transform(X_train)\n",
    "X_test = model.transform(X_test)\n",
    "print(X_train.shape)"
   ]
  },
  {
   "cell_type": "code",
   "execution_count": 152,
   "metadata": {},
   "outputs": [
    {
     "name": "stdout",
     "output_type": "stream",
     "text": [
      "Fitting 3 folds for each of 243 candidates, totalling 729 fits\n"
     ]
    },
    {
     "name": "stderr",
     "output_type": "stream",
     "text": [
      "[Parallel(n_jobs=-1)]: Using backend LokyBackend with 4 concurrent workers.\n",
      "[Parallel(n_jobs=-1)]: Done  33 tasks      | elapsed:   17.0s\n",
      "[Parallel(n_jobs=-1)]: Done 154 tasks      | elapsed:  1.4min\n",
      "[Parallel(n_jobs=-1)]: Done 357 tasks      | elapsed:  5.5min\n",
      "[Parallel(n_jobs=-1)]: Done 640 tasks      | elapsed: 16.6min\n",
      "[Parallel(n_jobs=-1)]: Done 729 out of 729 | elapsed: 22.2min finished\n",
      "/home/lorenz/miniconda3/lib/python3.7/site-packages/sklearn/model_selection/_search.py:739: DataConversionWarning: A column-vector y was passed when a 1d array was expected. Please change the shape of y to (n_samples,), for example using ravel().\n",
      "  self.best_estimator_.fit(X, y, **fit_params)\n"
     ]
    },
    {
     "data": {
      "text/plain": [
       "GridSearchCV(cv=3, error_score=nan,\n",
       "             estimator=RandomForestClassifier(bootstrap=True, ccp_alpha=0.0,\n",
       "                                              class_weight=None,\n",
       "                                              criterion='gini', max_depth=None,\n",
       "                                              max_features='auto',\n",
       "                                              max_leaf_nodes=None,\n",
       "                                              max_samples=None,\n",
       "                                              min_impurity_decrease=0.0,\n",
       "                                              min_impurity_split=None,\n",
       "                                              min_samples_leaf=1,\n",
       "                                              min_samples_split=2,\n",
       "                                              min_weight_fraction_leaf=0.0,\n",
       "                                              n_estimators=100, n_jobs=None,\n",
       "                                              oob_score=False,\n",
       "                                              random_state=None, verbose=0,\n",
       "                                              warm_start=False),\n",
       "             iid='deprecated', n_jobs=-1,\n",
       "             param_grid={'bootstrap': [True], 'max_depth': [2, 20, 40],\n",
       "                         'max_features': [1, 3, 7],\n",
       "                         'min_samples_leaf': [2, 4, 8],\n",
       "                         'min_samples_split': [5, 10, 10],\n",
       "                         'n_estimators': [5, 25, 50]},\n",
       "             pre_dispatch='2*n_jobs', refit=True, return_train_score=False,\n",
       "             scoring=None, verbose=2)"
      ]
     },
     "execution_count": 152,
     "metadata": {},
     "output_type": "execute_result"
    }
   ],
   "source": [
    "from sklearn.ensemble import RandomForestClassifier\n",
    "from sklearn.datasets import make_classification\n",
    "from sklearn.model_selection import GridSearchCV# Create the parameter grid based on the results of random search \n",
    "param_grid = {\n",
    "    'bootstrap': [True],\n",
    "    'max_depth': [2, 20, 40],\n",
    "    'max_features': [1, 3, 7],\n",
    "    'min_samples_leaf': [2, 4, 8],\n",
    "    'min_samples_split': [5, 10, 10],\n",
    "    'n_estimators': [5, 25, 50]\n",
    "}# Create a based model\n",
    "rf = RandomForestClassifier()# Instantiate the grid search model\n",
    "clf = GridSearchCV(estimator = rf, param_grid = param_grid, \n",
    "                          cv = 3, n_jobs = -1, verbose = 2)\n",
    "\n",
    "#clf = RandomForestClassifier(max_depth=20, max_features=7, random_state=0)\n",
    "clf.fit(X_train, y_train)"
   ]
  },
  {
   "cell_type": "code",
   "execution_count": 159,
   "metadata": {},
   "outputs": [],
   "source": [
    "y_pred = (clf.predict(X_test))"
   ]
  },
  {
   "cell_type": "code",
   "execution_count": 160,
   "metadata": {},
   "outputs": [
    {
     "name": "stdout",
     "output_type": "stream",
     "text": [
      "              precision    recall  f1-score   support\n",
      "\n",
      "        good       0.99      1.00      0.99     82202\n",
      "         bad       0.96      0.94      0.95      8269\n",
      "\n",
      "    accuracy                           0.99     90471\n",
      "   macro avg       0.97      0.97      0.97     90471\n",
      "weighted avg       0.99      0.99      0.99     90471\n",
      "\n",
      "0.9904941915088813\n",
      "[[81840   362]\n",
      " [  498  7771]]\n"
     ]
    }
   ],
   "source": [
    "from sklearn.metrics import classification_report\n",
    "from sklearn.metrics import accuracy_score\n",
    "from sklearn.metrics import confusion_matrix\n",
    "target_names = ['good', 'bad']\n",
    "print(classification_report(y_test, y_pred, target_names=target_names))\n",
    "print(accuracy_score(y_test, y_pred))\n",
    "print(confusion_matrix(y_test, y_pred))"
   ]
  },
  {
   "cell_type": "code",
   "execution_count": 1,
   "metadata": {},
   "outputs": [
    {
     "ename": "NameError",
     "evalue": "name 'X_test' is not defined",
     "output_type": "error",
     "traceback": [
      "\u001b[0;31m---------------------------------------------------------------------------\u001b[0m",
      "\u001b[0;31mNameError\u001b[0m                                 Traceback (most recent call last)",
      "\u001b[0;32m<ipython-input-1-9441834dfa15>\u001b[0m in \u001b[0;36m<module>\u001b[0;34m\u001b[0m\n\u001b[0;32m----> 1\u001b[0;31m \u001b[0mX_pred_bad\u001b[0m \u001b[0;34m=\u001b[0m \u001b[0mX_test\u001b[0m\u001b[0;34m[\u001b[0m\u001b[0mnp\u001b[0m\u001b[0;34m.\u001b[0m\u001b[0mwhere\u001b[0m\u001b[0;34m(\u001b[0m\u001b[0my_pred\u001b[0m \u001b[0;34m==\u001b[0m \u001b[0;36m1\u001b[0m\u001b[0;34m)\u001b[0m\u001b[0;34m]\u001b[0m\u001b[0;34m\u001b[0m\u001b[0;34m\u001b[0m\u001b[0m\n\u001b[0m\u001b[1;32m      2\u001b[0m \u001b[0mX_pred_good\u001b[0m \u001b[0;34m=\u001b[0m \u001b[0mX_test\u001b[0m\u001b[0;34m[\u001b[0m\u001b[0mnp\u001b[0m\u001b[0;34m.\u001b[0m\u001b[0mwhere\u001b[0m\u001b[0;34m(\u001b[0m\u001b[0my_pred\u001b[0m \u001b[0;34m==\u001b[0m \u001b[0;36m0\u001b[0m\u001b[0;34m)\u001b[0m\u001b[0;34m]\u001b[0m\u001b[0;34m\u001b[0m\u001b[0;34m\u001b[0m\u001b[0m\n\u001b[1;32m      3\u001b[0m \u001b[0;34m\u001b[0m\u001b[0m\n\u001b[1;32m      4\u001b[0m \u001b[0;32mfrom\u001b[0m \u001b[0msklearn\u001b[0m\u001b[0;34m.\u001b[0m\u001b[0mcluster\u001b[0m \u001b[0;32mimport\u001b[0m \u001b[0mOPTICS\u001b[0m\u001b[0;34m\u001b[0m\u001b[0;34m\u001b[0m\u001b[0m\n\u001b[1;32m      5\u001b[0m \u001b[0mclustering\u001b[0m \u001b[0;34m=\u001b[0m \u001b[0mOPTICS\u001b[0m\u001b[0;34m(\u001b[0m\u001b[0mmin_samples\u001b[0m\u001b[0;34m=\u001b[0m\u001b[0;36m2\u001b[0m\u001b[0;34m)\u001b[0m\u001b[0;34m.\u001b[0m\u001b[0mfit\u001b[0m\u001b[0;34m(\u001b[0m\u001b[0mX_pred_bad\u001b[0m\u001b[0;34m)\u001b[0m\u001b[0;34m\u001b[0m\u001b[0;34m\u001b[0m\u001b[0m\n",
      "\u001b[0;31mNameError\u001b[0m: name 'X_test' is not defined"
     ]
    }
   ],
   "source": [
    "X_pred_bad = X_test[np.where(y_pred == 1)]\n",
    "X_pred_good = X_test[np.where(y_pred == 0)]\n",
    "\n",
    "from sklearn.cluster import OPTICS\n",
    "clustering = OPTICS(min_samples=2).fit(X_pred_bad)\n"
   ]
  },
  {
   "cell_type": "code",
   "execution_count": null,
   "metadata": {},
   "outputs": [],
   "source": [
    "print(len(set(clustering.labels_)))"
   ]
  },
  {
   "cell_type": "code",
   "execution_count": null,
   "metadata": {},
   "outputs": [],
   "source": []
  }
 ],
 "metadata": {
  "kernelspec": {
   "display_name": "Python 3",
   "language": "python",
   "name": "python3"
  },
  "language_info": {
   "codemirror_mode": {
    "name": "ipython",
    "version": 3
   },
   "file_extension": ".py",
   "mimetype": "text/x-python",
   "name": "python",
   "nbconvert_exporter": "python",
   "pygments_lexer": "ipython3",
   "version": "3.7.4"
  }
 },
 "nbformat": 4,
 "nbformat_minor": 2
}
